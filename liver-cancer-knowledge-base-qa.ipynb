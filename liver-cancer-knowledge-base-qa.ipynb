{
 "cells": [
  {
   "cell_type": "code",
   "execution_count": 1,
   "metadata": {},
   "outputs": [
    {
     "name": "stdout",
     "output_type": "stream",
     "text": [
      "\n",
      "\u001b[1m[\u001b[0m\u001b[34;49mnotice\u001b[0m\u001b[1;39;49m]\u001b[0m\u001b[39;49m A new release of pip available: \u001b[0m\u001b[31;49m22.3.1\u001b[0m\u001b[39;49m -> \u001b[0m\u001b[32;49m23.1.2\u001b[0m\n",
      "\u001b[1m[\u001b[0m\u001b[34;49mnotice\u001b[0m\u001b[1;39;49m]\u001b[0m\u001b[39;49m To update, run: \u001b[0m\u001b[32;49mpip install --upgrade pip\u001b[0m\n"
     ]
    }
   ],
   "source": [
    "!pip install -qU langchain openai tiktoken pypdf2 scipy"
   ]
  },
  {
   "attachments": {},
   "cell_type": "markdown",
   "metadata": {},
   "source": [
    "### Read the pdf"
   ]
  },
  {
   "cell_type": "code",
   "execution_count": 54,
   "metadata": {},
   "outputs": [],
   "source": [
    "from PyPDF2 import PdfReader\n",
    "\n",
    "reader = PdfReader(\"liver-hp-patient.pdf\")\n",
    "pages = reader.pages\n",
    "\n",
    "extracted_text = \"\"\n",
    "for page_number in range(len(reader.pages)):\n",
    "    page = reader.pages[page_number]\n",
    "    extracted_text += page.extract_text()"
   ]
  },
  {
   "attachments": {},
   "cell_type": "markdown",
   "metadata": {},
   "source": [
    "Count number of words in any length of text"
   ]
  },
  {
   "cell_type": "code",
   "execution_count": 55,
   "metadata": {},
   "outputs": [
    {
     "data": {
      "text/plain": [
       "28120"
      ]
     },
     "execution_count": 55,
     "metadata": {},
     "output_type": "execute_result"
    }
   ],
   "source": [
    "import tiktoken\n",
    "\n",
    "tokenizer = tiktoken.get_encoding('cl100k_base')\n",
    "\n",
    "# create the length function\n",
    "def tiktoken_len(text):\n",
    "    tokens = tokenizer.encode(\n",
    "        text,\n",
    "        disallowed_special=()\n",
    "    )\n",
    "    return len(tokens)\n",
    "\n",
    "tiktoken_len(extracted_text)"
   ]
  },
  {
   "attachments": {},
   "cell_type": "markdown",
   "metadata": {},
   "source": [
    "Split the text into chunks of 400 words"
   ]
  },
  {
   "cell_type": "code",
   "execution_count": 7,
   "metadata": {},
   "outputs": [],
   "source": [
    "from langchain.text_splitter import RecursiveCharacterTextSplitter\n",
    "\n",
    "text_splitter = RecursiveCharacterTextSplitter(\n",
    "    chunk_size=400,\n",
    "    chunk_overlap=20,\n",
    "    length_function=tiktoken_len,\n",
    "    separators=[\"\\n\\n\", \"\\n\", \" \", \"\"]\n",
    ")"
   ]
  },
  {
   "cell_type": "code",
   "execution_count": 27,
   "metadata": {},
   "outputs": [
    {
     "data": {
      "text/plain": [
       "81"
      ]
     },
     "execution_count": 27,
     "metadata": {},
     "output_type": "execute_result"
    }
   ],
   "source": [
    "chunks = text_splitter.split_text(extracted_text)\n",
    "len(chunks)"
   ]
  },
  {
   "attachments": {},
   "cell_type": "markdown",
   "metadata": {},
   "source": [
    "### Prepare embedding\n",
    "\n",
    "Convert chunks into vectors"
   ]
  },
  {
   "cell_type": "code",
   "execution_count": 19,
   "metadata": {},
   "outputs": [],
   "source": [
    "from getpass import getpass\n",
    "\n",
    "OPENAI_API_KEY = getpass(\"OpenAI API Key: \")"
   ]
  },
  {
   "cell_type": "code",
   "execution_count": 25,
   "metadata": {},
   "outputs": [
    {
     "name": "stdout",
     "output_type": "stream",
     "text": [
      "Batch 0 to 999\n"
     ]
    }
   ],
   "source": [
    "import openai\n",
    "import pandas as pd\n",
    "\n",
    "# calculate embeddings\n",
    "EMBEDDING_MODEL = \"text-embedding-ada-002\"  # OpenAI's best embeddings as of Apr 2023\n",
    "BATCH_SIZE = 1000  # you can submit up to 2048 embedding inputs per request\n",
    "\n",
    "embeddings = []\n",
    "for batch_start in range(0, len(chunks), BATCH_SIZE):\n",
    "    batch_end = batch_start + BATCH_SIZE\n",
    "    batch = chunks[batch_start:batch_end]\n",
    "    print(f\"Batch {batch_start} to {batch_end-1}\")\n",
    "    response = openai.Embedding.create(model=EMBEDDING_MODEL, input=batch)\n",
    "    for i, be in enumerate(response[\"data\"]):\n",
    "        assert i == be[\"index\"]  # double check embeddings are in same order as input\n",
    "    batch_embeddings = [e[\"embedding\"] for e in response[\"data\"]]\n",
    "    embeddings.extend(batch_embeddings)\n",
    "\n",
    "df = pd.DataFrame({\"text\": chunks, \"embedding\": embeddings})"
   ]
  },
  {
   "attachments": {},
   "cell_type": "markdown",
   "metadata": {},
   "source": [
    "Save the embeddings as csv"
   ]
  },
  {
   "cell_type": "code",
   "execution_count": 26,
   "metadata": {},
   "outputs": [],
   "source": [
    "SAVE_PATH = \"cancer-knowledge.csv\"\n",
    "df.to_csv(SAVE_PATH, index=False)"
   ]
  },
  {
   "attachments": {},
   "cell_type": "markdown",
   "metadata": {},
   "source": [
    "# Use the embedding as knowledge base"
   ]
  },
  {
   "cell_type": "code",
   "execution_count": 28,
   "metadata": {},
   "outputs": [],
   "source": [
    "import ast  # for converting embeddings saved as strings back to arrays\n",
    "\n",
    "df = pd.read_csv(SAVE_PATH)\n",
    "\n",
    "# convert embeddings from CSV str type back to list type\n",
    "df['embedding'] = df['embedding'].apply(ast.literal_eval)"
   ]
  },
  {
   "cell_type": "code",
   "execution_count": 29,
   "metadata": {},
   "outputs": [
    {
     "data": {
      "text/html": [
       "<div>\n",
       "<style scoped>\n",
       "    .dataframe tbody tr th:only-of-type {\n",
       "        vertical-align: middle;\n",
       "    }\n",
       "\n",
       "    .dataframe tbody tr th {\n",
       "        vertical-align: top;\n",
       "    }\n",
       "\n",
       "    .dataframe thead th {\n",
       "        text-align: right;\n",
       "    }\n",
       "</style>\n",
       "<table border=\"1\" class=\"dataframe\">\n",
       "  <thead>\n",
       "    <tr style=\"text-align: right;\">\n",
       "      <th></th>\n",
       "      <th>text</th>\n",
       "      <th>embedding</th>\n",
       "    </tr>\n",
       "  </thead>\n",
       "  <tbody>\n",
       "    <tr>\n",
       "      <th>0</th>\n",
       "      <td>Liver Cancer\\nHepatobiliary Cancers\\nAvailable...</td>\n",
       "      <td>[0.015058930031955242, -0.0007402518531307578,...</td>\n",
       "    </tr>\n",
       "    <tr>\n",
       "      <th>1</th>\n",
       "      <td>affected by a cancer diagnosis by funding and ...</td>\n",
       "      <td>[-0.0017696862341836095, -0.002883933018893003...</td>\n",
       "    </tr>\n",
       "    <tr>\n",
       "      <th>2</th>\n",
       "      <td>and treatment\\nFree online at  \\nNCCN.org/guid...</td>\n",
       "      <td>[0.007323516067117453, -0.0016455147415399551,...</td>\n",
       "    </tr>\n",
       "    <tr>\n",
       "      <th>3</th>\n",
       "      <td>74 Index6\\nNCCN Guidelines for Patients® \\nLiv...</td>\n",
       "      <td>[0.015031230635941029, 0.008718114346265793, 0...</td>\n",
       "    </tr>\n",
       "    <tr>\n",
       "      <th>4</th>\n",
       "      <td>Gallbladder\\nCommon bile ductThe liver and \\nn...</td>\n",
       "      <td>[-0.0022459784522652626, 0.02593529038131237, ...</td>\n",
       "    </tr>\n",
       "    <tr>\n",
       "      <th>...</th>\n",
       "      <td>...</td>\n",
       "      <td>...</td>\n",
       "    </tr>\n",
       "    <tr>\n",
       "      <th>76</th>\n",
       "      <td>Cancer Center of Northwestern \\nUniversity\\nCh...</td>\n",
       "      <td>[-0.003479365259408951, -0.00542986998334527, ...</td>\n",
       "    </tr>\n",
       "    <tr>\n",
       "      <th>77</th>\n",
       "      <td>health.ucdavis.edu/cancer\\nUC San Diego Moores...</td>\n",
       "      <td>[0.009501981548964977, 0.0006425384781323373, ...</td>\n",
       "    </tr>\n",
       "    <tr>\n",
       "      <th>78</th>\n",
       "      <td>cancer grade  11\\ncancer stage  10–13\\nchemoth...</td>\n",
       "      <td>[-0.006136395037174225, 0.00018382516282144934...</td>\n",
       "    </tr>\n",
       "    <tr>\n",
       "      <th>79</th>\n",
       "      <td>radiation therapy (RT)  34\\nresectable  29, 41...</td>\n",
       "      <td>[-0.007198337931185961, -0.013739843852818012,...</td>\n",
       "    </tr>\n",
       "    <tr>\n",
       "      <th>80</th>\n",
       "      <td>development of the NCCN Guidelines for Patient...</td>\n",
       "      <td>[0.007971218787133694, 0.0006891309749335051, ...</td>\n",
       "    </tr>\n",
       "  </tbody>\n",
       "</table>\n",
       "<p>81 rows × 2 columns</p>\n",
       "</div>"
      ],
      "text/plain": [
       "                                                 text   \n",
       "0   Liver Cancer\\nHepatobiliary Cancers\\nAvailable...  \\\n",
       "1   affected by a cancer diagnosis by funding and ...   \n",
       "2   and treatment\\nFree online at  \\nNCCN.org/guid...   \n",
       "3   74 Index6\\nNCCN Guidelines for Patients® \\nLiv...   \n",
       "4   Gallbladder\\nCommon bile ductThe liver and \\nn...   \n",
       "..                                                ...   \n",
       "76  Cancer Center of Northwestern \\nUniversity\\nCh...   \n",
       "77  health.ucdavis.edu/cancer\\nUC San Diego Moores...   \n",
       "78  cancer grade  11\\ncancer stage  10–13\\nchemoth...   \n",
       "79  radiation therapy (RT)  34\\nresectable  29, 41...   \n",
       "80  development of the NCCN Guidelines for Patient...   \n",
       "\n",
       "                                            embedding  \n",
       "0   [0.015058930031955242, -0.0007402518531307578,...  \n",
       "1   [-0.0017696862341836095, -0.002883933018893003...  \n",
       "2   [0.007323516067117453, -0.0016455147415399551,...  \n",
       "3   [0.015031230635941029, 0.008718114346265793, 0...  \n",
       "4   [-0.0022459784522652626, 0.02593529038131237, ...  \n",
       "..                                                ...  \n",
       "76  [-0.003479365259408951, -0.00542986998334527, ...  \n",
       "77  [0.009501981548964977, 0.0006425384781323373, ...  \n",
       "78  [-0.006136395037174225, 0.00018382516282144934...  \n",
       "79  [-0.007198337931185961, -0.013739843852818012,...  \n",
       "80  [0.007971218787133694, 0.0006891309749335051, ...  \n",
       "\n",
       "[81 rows x 2 columns]"
      ]
     },
     "execution_count": 29,
     "metadata": {},
     "output_type": "execute_result"
    }
   ],
   "source": [
    "df"
   ]
  },
  {
   "attachments": {},
   "cell_type": "markdown",
   "metadata": {},
   "source": [
    "### Prepare Search functions"
   ]
  },
  {
   "cell_type": "code",
   "execution_count": 32,
   "metadata": {},
   "outputs": [],
   "source": [
    "from scipy import spatial  # for calculating vector similarities for search\n",
    "\n",
    "# search function\n",
    "def strings_ranked_by_relatedness(\n",
    "    query: str,\n",
    "    df: pd.DataFrame,\n",
    "    relatedness_fn=lambda x, y: 1 - spatial.distance.cosine(x, y),\n",
    "    top_n: int = 100\n",
    ") -> tuple[list[str], list[float]]:\n",
    "    \"\"\"Returns a list of strings and relatednesses, sorted from most related to least.\"\"\"\n",
    "    query_embedding_response = openai.Embedding.create(\n",
    "        model=EMBEDDING_MODEL,\n",
    "        input=query,\n",
    "    )\n",
    "    query_embedding = query_embedding_response[\"data\"][0][\"embedding\"]\n",
    "    strings_and_relatednesses = [\n",
    "        (row[\"text\"], relatedness_fn(query_embedding, row[\"embedding\"]))\n",
    "        for i, row in df.iterrows()\n",
    "    ]\n",
    "    strings_and_relatednesses.sort(key=lambda x: x[1], reverse=True)\n",
    "    strings, relatednesses = zip(*strings_and_relatednesses)\n",
    "    return strings[:top_n], relatednesses[:top_n]"
   ]
  },
  {
   "cell_type": "code",
   "execution_count": 34,
   "metadata": {},
   "outputs": [
    {
     "name": "stdout",
     "output_type": "stream",
     "text": [
      "relatedness=0.864\n"
     ]
    },
    {
     "data": {
      "text/plain": [
       "'A partial hepatectomy is different than a liver \\ntransplant. \\nA partial hepatectomy is not for everyone. Liver \\ndamage, such as cirrhosis or fibrosis, can make \\nsurgery more difficult or not possible. The size \\nand location of the tumor, as well as your liver \\nfunction (Child-Pugh score), will play a role in if \\ntumor resection is the best option for you. You \\nmust also have a working liver and be healthy \\nenough for surgery. \\nGet to know your \\ncare team and let \\nthem get to  \\nknow you.30\\nNCCN Guidelines for Patients® \\nLiver Cancer, 20213 Treatment overview  Liver transplant\\nLiver transplant\\nIn a liver transplant, the entire diseased liver \\nis removed and replaced with a healthy donor \\nliver. The new liver may be donated from a \\nperson who recently died or a section of liver \\nmay be donated from a living person. A liver \\ntransplant is based on certain size limits and \\ntumor locations. \\nThe liver is divided into 8 sections or segments \\nbased on portal vein and bile duct locations. \\nIt is possible for someone to donate a portion \\nof the liver. Structures such as the inferior \\nvena cava, portal vein, hepatic artery, and \\nbile ducts are reconnected to the new liver. \\nRemember, a liver transplant can be a whole \\nliver replacement or just a portion. \\nA liver transplant may be an option for \\npeople who can’t have a partial hepatectomy. However, not everyone is a candidate for a liver \\ntransplant. \\nOther treatments may be given if you are \\nwaiting for a transplant. These treatments are'"
      ]
     },
     "metadata": {},
     "output_type": "display_data"
    },
    {
     "name": "stdout",
     "output_type": "stream",
     "text": [
      "relatedness=0.863\n"
     ]
    },
    {
     "data": {
      "text/plain": [
       "'Other treatments may be given if you are \\nwaiting for a transplant. These treatments are \\ncalled bridging therapy and include ablation and \\nembolization. \\nThere is still a chance that cancer will return \\nafter a liver transplant. It is also possible your \\nbody will reject the donor liver. You will be given \\nmedicine to prevent rejection. \\nBridge therapy\\nThere can be long wait times to receive a liver \\ntransplant. Treatments may be given while you \\nwait for a transplant. These treatments are \\ncalled bridge or bridging therapy and include \\nablation, embolization, or radiation therapy.\\nLiver transplant\\nThe liver is divided into \\n8 sections or segments \\nbased on the location of \\nthe portal vein, hepatic \\nvein, and bile ducts.31\\nNCCN Guidelines for Patients® \\nLiver Cancer, 20213 Treatment overview  Liver transplant\\nDownstaging therapy\\nDownstaging therapy is used to reduce \\nthe tumor burden in selected patients \\nwith more advanced HCC (without distant \\nmetastasis) who are beyond the accepted \\ntransplant criteria with the goal of future \\ntransplant. Treatments include ablation and \\nembolization.\\nUNOS\\nUnited Network for Organ Sharing (UNOS) \\nis the non-profit organization that manages \\nthe organ transplant list in the United \\nStates. Those with hepatocellular carcinoma \\n(HCC) must meet certain criteria to be \\neligible for a liver transplant.\\nThese include:\\n \\x86One tumor of 5 cm or less, or \\n \\x862 or 3 tumors of 3 cm or less\\n \\x86Sometimes exceptions are made at \\nselect transplant centers\\nMELD\\nModel for End-Stage Liver Disease (MELD)'"
      ]
     },
     "metadata": {},
     "output_type": "display_data"
    },
    {
     "name": "stdout",
     "output_type": "stream",
     "text": [
      "relatedness=0.856\n"
     ]
    },
    {
     "data": {
      "text/plain": [
       "'healthy enough for resection. A tumor \\nthat cannot be removed with surgery is \\ncalled unresectable. A liver transplant \\nmight be an option for some. Together, \\nyou and your doctor will choose a \\ntreatment plan that is best for you.\\nOverview\\nSurgery to remove a tumor is called resection. \\nSurgery that removes the tumor with part of the \\nliver is called partial hepatectomy. Sometimes, \\nsurgery is not possible because of where the \\ntumor is located or the liver is too damaged. In \\naddition, sometimes liver transplant is not an \\noption. \\nThere are treatments if a partial hepatectomy or \\nliver transplant are not options. \\nTransplant\\nTransplant may be an option if the following \\nUNOS criteria are met:\\n \\x86Alpha-fetoprotein (AFP) levels are 1000 \\nng/mL or less and tumor is 2 to 5 cm in \\ndiameter or 2 to 3 tumors are 1 to 3 cm \\n \\x86No large veins, arteries, or bile ducts have \\ncancer\\n \\x86No disease outside the liver (extrahepatic)If transplant is an option, then you:\\n \\x86Will be referred to a liver transplant center \\nthat has an experienced transplant team\\n \\x86Might have bridging therapy \\nBridging therapy is treatment given while waiting \\nfor a transplant to prevent cancer from growing or \\nspreading. If cancer grows or spreads, you might \\nnot be able to have a liver transplant. Bridging \\ntherapy options include ablation, embolization, \\nradiation therapy, or systemic therapy. \\nSurveillance\\nAfter a liver transplant, you will start \\nsurveillance. Surveillance consists of testing on'"
      ]
     },
     "metadata": {},
     "output_type": "display_data"
    },
    {
     "name": "stdout",
     "output_type": "stream",
     "text": [
      "relatedness=0.853\n"
     ]
    },
    {
     "data": {
      "text/plain": [
       "'After a liver transplant, you will start \\nsurveillance. Surveillance consists of testing on \\na regular basis to watch for signs that cancer \\nhas returned. Imaging tests and blood tests to \\nlook for alpha-fetoprotein (AFP) are needed. \\nSurveillance includes:\\n \\x86Imaging tests every 3 to 6 months for 2 \\nyears, then every 6 to 12 months\\n \\x86AFP every 3 to 6 months for 2 years, then \\nevery 6 to 12 months46\\nNCCN Guidelines for Patients® \\nLiver Cancer, 20215 Unresectable  Treatment without surgery\\nTreatment without surgery\\nNot everyone is healthy enough for a liver \\ntransplant. You may not want a liver transplant. \\nThere are treatments if surgery or a liver \\ntransplant are not options. For treatment \\noptions, see Guide 5.\\nLocoregional therapy\\nLocoregional therapy focuses on the area \\nor region where the cancer is. It includes \\nablation, arterially directed therapy, and \\nradiation therapy. These are the preferred \\ntreatment options for those not receiving a liver \\ntransplant.\\nClinical trial\\nA clinical trial might be an option. Ask your \\ndoctor if a clinical trial is right for you.Best supportive care\\nBest supportive care is used to relieve \\nsymptoms caused by cancer or cancer \\ntreatment and improve quality of life.\\nSystemic therapy \\nSystemic therapy is drug therapy that works \\nthroughout the body. Preferred treatment \\noptions will be based on your Child-Pugh class. \\nAsk your medical oncologist why one drug \\nmight be chosen over another. First-line options \\nare the treatments tried first. For first-line \\nsystemic therapy options, see Guide 6.'"
      ]
     },
     "metadata": {},
     "output_type": "display_data"
    },
    {
     "name": "stdout",
     "output_type": "stream",
     "text": [
      "relatedness=0.846\n"
     ]
    },
    {
     "data": {
      "text/plain": [
       "'Resectable treatment options\\nSurgery to remove tumor (preferred)\\nAblation\\nArterially directed therapy\\nExternal beam radiation therapy (EBRT)43\\nNCCN Guidelines for Patients® \\nLiver Cancer, 20214 Resectable  Transplant\\n 4 Resectable  Transplant | Surveillance | Key points\\nTransplant\\nTransplant may be an option if the following \\nUNOS criteria are met:\\n \\x86AFP levels are 1000 ng/mL or less and \\ntumor is 2 to 5 cm in diameter or 2 to 3 \\ntumors are 1 to 3 cm \\n \\x86No large veins, arteries, or bile ducts have \\ncancer (no macrovascular involvement)\\n \\x86No disease outside the liver (extrahepatic)\\nTransplant is an option\\nIf transplant is an option, then you will:\\n \\x86Be referred to a liver transplant center that \\nhas an experienced transplant team\\n \\x86Have bridging therapy \\nBridging therapy is treatment given while \\nwaiting for a transplant to prevent cancer \\nfrom growing or spreading. If cancer grows or \\nspreads, you might not be able to have a liver \\ntransplant. Bridging therapy options include \\nablation, embolization, radiation therapy, or \\nsystemic therapy. \\nTransplant is not an option\\nIf a liver transplant is not an option, then \\nsurgery to remove the tumor (resection) is \\npreferred. Other options include ablation, \\narterially directed therapy, and radiation \\ntherapy. See Guide 4.Surveillance\\nAfter treatment, you will start surveillance. \\nSurveillance consists of testing on a regular \\nbasis to watch for signs that cancer has \\nreturned. Imaging tests and blood tests to look'"
      ]
     },
     "metadata": {},
     "output_type": "display_data"
    }
   ],
   "source": [
    "strings, relatednesses = strings_ranked_by_relatedness(\"liver transplant\", df, top_n=5)\n",
    "for string, relatedness in zip(strings, relatednesses):\n",
    "    print(f\"{relatedness=:.3f}\")\n",
    "    display(string)"
   ]
  },
  {
   "attachments": {},
   "cell_type": "markdown",
   "metadata": {},
   "source": [
    "### 3. Ask by appending related chunks as the context"
   ]
  },
  {
   "cell_type": "code",
   "execution_count": 38,
   "metadata": {},
   "outputs": [],
   "source": [
    "GPT_MODEL = 'gpt-3.5-turbo'\n",
    "\n",
    "def query_message(\n",
    "    query: str,\n",
    "    df: pd.DataFrame,\n",
    "    model: str,\n",
    "    token_budget: int\n",
    ") -> str:\n",
    "    \"\"\"Return a message for GPT, with relevant source texts pulled from a dataframe.\"\"\"\n",
    "    strings, relatednesses = strings_ranked_by_relatedness(query, df)\n",
    "    introduction = 'Use the below articles on the National Comprehensive Cancer Network Guideline Liver Cancer to answer the subsequent question. If the answer cannot be found in the articles, write \"I could not find an answer.\"'\n",
    "    question = f\"\\n\\nQuestion: {query}\"\n",
    "    message = introduction\n",
    "    for string in strings:\n",
    "        next_article = f'\\n\\nNational Comprehensive Cancer Network Guideline Liver Cancer section:\\n\"\"\"\\n{string}\\n\"\"\"'\n",
    "        if (\n",
    "            tiktoken_len(message + next_article + question)\n",
    "            > token_budget\n",
    "        ):\n",
    "            break\n",
    "        else:\n",
    "            message += next_article\n",
    "    return message + question\n",
    "\n",
    "\n",
    "def ask(\n",
    "    query: str,\n",
    "    df: pd.DataFrame = df,\n",
    "    model: str = GPT_MODEL,\n",
    "    token_budget: int = 4096 - 500,\n",
    "    print_message: bool = False,\n",
    ") -> str:\n",
    "    \"\"\"Answers a query using GPT and a dataframe of relevant texts and embeddings.\"\"\"\n",
    "    message = query_message(query, df, model=model, token_budget=token_budget)\n",
    "    if print_message:\n",
    "        print(message)\n",
    "    messages = [\n",
    "        {\"role\": \"system\", \"content\": \"You answer questions about the National Comprehensive Cancer Network Guideline Liver Cancer.\"},\n",
    "        {\"role\": \"user\", \"content\": message},\n",
    "    ]\n",
    "    response = openai.ChatCompletion.create(\n",
    "        model=model,\n",
    "        messages=messages,\n",
    "        temperature=0\n",
    "    )\n",
    "    response_message = response[\"choices\"][0][\"message\"][\"content\"]\n",
    "    return response_message"
   ]
  },
  {
   "cell_type": "code",
   "execution_count": 40,
   "metadata": {},
   "outputs": [
    {
     "name": "stdout",
     "output_type": "stream",
     "text": [
      "Use the below articles on the National Comprehensive Cancer Network Guideline Liver Cancer to answer the subsequent question. If the answer cannot be found in the articles, write \"I could not find an answer.\"\n",
      "\n",
      "National Comprehensive Cancer Network Guideline Liver Cancer section:\n",
      "\"\"\"\n",
      "After a liver transplant, you will start \n",
      "surveillance. Surveillance consists of testing on \n",
      "a regular basis to watch for signs that cancer \n",
      "has returned. Imaging tests and blood tests to \n",
      "look for alpha-fetoprotein (AFP) are needed. \n",
      "Surveillance includes:\n",
      " Imaging tests every 3 to 6 months for 2 \n",
      "years, then every 6 to 12 months\n",
      " AFP every 3 to 6 months for 2 years, then \n",
      "every 6 to 12 months46\n",
      "NCCN Guidelines for Patients® \n",
      "Liver Cancer, 20215 Unresectable  Treatment without surgery\n",
      "Treatment without surgery\n",
      "Not everyone is healthy enough for a liver \n",
      "transplant. You may not want a liver transplant. \n",
      "There are treatments if surgery or a liver \n",
      "transplant are not options. For treatment \n",
      "options, see Guide 5.\n",
      "Locoregional therapy\n",
      "Locoregional therapy focuses on the area \n",
      "or region where the cancer is. It includes \n",
      "ablation, arterially directed therapy, and \n",
      "radiation therapy. These are the preferred \n",
      "treatment options for those not receiving a liver \n",
      "transplant.\n",
      "Clinical trial\n",
      "A clinical trial might be an option. Ask your \n",
      "doctor if a clinical trial is right for you.Best supportive care\n",
      "Best supportive care is used to relieve \n",
      "symptoms caused by cancer or cancer \n",
      "treatment and improve quality of life.\n",
      "Systemic therapy \n",
      "Systemic therapy is drug therapy that works \n",
      "throughout the body. Preferred treatment \n",
      "options will be based on your Child-Pugh class. \n",
      "Ask your medical oncologist why one drug \n",
      "might be chosen over another. First-line options \n",
      "are the treatments tried first. For first-line \n",
      "systemic therapy options, see Guide 6.\n",
      "\"\"\"\n",
      "\n",
      "National Comprehensive Cancer Network Guideline Liver Cancer section:\n",
      "\"\"\"\n",
      "A partial hepatectomy is different than a liver \n",
      "transplant. \n",
      "A partial hepatectomy is not for everyone. Liver \n",
      "damage, such as cirrhosis or fibrosis, can make \n",
      "surgery more difficult or not possible. The size \n",
      "and location of the tumor, as well as your liver \n",
      "function (Child-Pugh score), will play a role in if \n",
      "tumor resection is the best option for you. You \n",
      "must also have a working liver and be healthy \n",
      "enough for surgery. \n",
      "Get to know your \n",
      "care team and let \n",
      "them get to  \n",
      "know you.30\n",
      "NCCN Guidelines for Patients® \n",
      "Liver Cancer, 20213 Treatment overview  Liver transplant\n",
      "Liver transplant\n",
      "In a liver transplant, the entire diseased liver \n",
      "is removed and replaced with a healthy donor \n",
      "liver. The new liver may be donated from a \n",
      "person who recently died or a section of liver \n",
      "may be donated from a living person. A liver \n",
      "transplant is based on certain size limits and \n",
      "tumor locations. \n",
      "The liver is divided into 8 sections or segments \n",
      "based on portal vein and bile duct locations. \n",
      "It is possible for someone to donate a portion \n",
      "of the liver. Structures such as the inferior \n",
      "vena cava, portal vein, hepatic artery, and \n",
      "bile ducts are reconnected to the new liver. \n",
      "Remember, a liver transplant can be a whole \n",
      "liver replacement or just a portion. \n",
      "A liver transplant may be an option for \n",
      "people who can’t have a partial hepatectomy. However, not everyone is a candidate for a liver \n",
      "transplant. \n",
      "Other treatments may be given if you are \n",
      "waiting for a transplant. These treatments are\n",
      "\"\"\"\n",
      "\n",
      "National Comprehensive Cancer Network Guideline Liver Cancer section:\n",
      "\"\"\"\n",
      "Other treatments may be given if you are \n",
      "waiting for a transplant. These treatments are \n",
      "called bridging therapy and include ablation and \n",
      "embolization. \n",
      "There is still a chance that cancer will return \n",
      "after a liver transplant. It is also possible your \n",
      "body will reject the donor liver. You will be given \n",
      "medicine to prevent rejection. \n",
      "Bridge therapy\n",
      "There can be long wait times to receive a liver \n",
      "transplant. Treatments may be given while you \n",
      "wait for a transplant. These treatments are \n",
      "called bridge or bridging therapy and include \n",
      "ablation, embolization, or radiation therapy.\n",
      "Liver transplant\n",
      "The liver is divided into \n",
      "8 sections or segments \n",
      "based on the location of \n",
      "the portal vein, hepatic \n",
      "vein, and bile ducts.31\n",
      "NCCN Guidelines for Patients® \n",
      "Liver Cancer, 20213 Treatment overview  Liver transplant\n",
      "Downstaging therapy\n",
      "Downstaging therapy is used to reduce \n",
      "the tumor burden in selected patients \n",
      "with more advanced HCC (without distant \n",
      "metastasis) who are beyond the accepted \n",
      "transplant criteria with the goal of future \n",
      "transplant. Treatments include ablation and \n",
      "embolization.\n",
      "UNOS\n",
      "United Network for Organ Sharing (UNOS) \n",
      "is the non-profit organization that manages \n",
      "the organ transplant list in the United \n",
      "States. Those with hepatocellular carcinoma \n",
      "(HCC) must meet certain criteria to be \n",
      "eligible for a liver transplant.\n",
      "These include:\n",
      " One tumor of 5 cm or less, or \n",
      " 2 or 3 tumors of 3 cm or less\n",
      " Sometimes exceptions are made at \n",
      "select transplant centers\n",
      "MELD\n",
      "Model for End-Stage Liver Disease (MELD)\n",
      "\"\"\"\n",
      "\n",
      "National Comprehensive Cancer Network Guideline Liver Cancer section:\n",
      "\"\"\"\n",
      "healthy enough for resection. A tumor \n",
      "that cannot be removed with surgery is \n",
      "called unresectable. A liver transplant \n",
      "might be an option for some. Together, \n",
      "you and your doctor will choose a \n",
      "treatment plan that is best for you.\n",
      "Overview\n",
      "Surgery to remove a tumor is called resection. \n",
      "Surgery that removes the tumor with part of the \n",
      "liver is called partial hepatectomy. Sometimes, \n",
      "surgery is not possible because of where the \n",
      "tumor is located or the liver is too damaged. In \n",
      "addition, sometimes liver transplant is not an \n",
      "option. \n",
      "There are treatments if a partial hepatectomy or \n",
      "liver transplant are not options. \n",
      "Transplant\n",
      "Transplant may be an option if the following \n",
      "UNOS criteria are met:\n",
      " Alpha-fetoprotein (AFP) levels are 1000 \n",
      "ng/mL or less and tumor is 2 to 5 cm in \n",
      "diameter or 2 to 3 tumors are 1 to 3 cm \n",
      " No large veins, arteries, or bile ducts have \n",
      "cancer\n",
      " No disease outside the liver (extrahepatic)If transplant is an option, then you:\n",
      " Will be referred to a liver transplant center \n",
      "that has an experienced transplant team\n",
      " Might have bridging therapy \n",
      "Bridging therapy is treatment given while waiting \n",
      "for a transplant to prevent cancer from growing or \n",
      "spreading. If cancer grows or spreads, you might \n",
      "not be able to have a liver transplant. Bridging \n",
      "therapy options include ablation, embolization, \n",
      "radiation therapy, or systemic therapy. \n",
      "Surveillance\n",
      "After a liver transplant, you will start \n",
      "surveillance. Surveillance consists of testing on\n",
      "\"\"\"\n",
      "\n",
      "National Comprehensive Cancer Network Guideline Liver Cancer section:\n",
      "\"\"\"\n",
      "Resectable treatment options\n",
      "Surgery to remove tumor (preferred)\n",
      "Ablation\n",
      "Arterially directed therapy\n",
      "External beam radiation therapy (EBRT)43\n",
      "NCCN Guidelines for Patients® \n",
      "Liver Cancer, 20214 Resectable  Transplant\n",
      " 4 Resectable  Transplant | Surveillance | Key points\n",
      "Transplant\n",
      "Transplant may be an option if the following \n",
      "UNOS criteria are met:\n",
      " AFP levels are 1000 ng/mL or less and \n",
      "tumor is 2 to 5 cm in diameter or 2 to 3 \n",
      "tumors are 1 to 3 cm \n",
      " No large veins, arteries, or bile ducts have \n",
      "cancer (no macrovascular involvement)\n",
      " No disease outside the liver (extrahepatic)\n",
      "Transplant is an option\n",
      "If transplant is an option, then you will:\n",
      " Be referred to a liver transplant center that \n",
      "has an experienced transplant team\n",
      " Have bridging therapy \n",
      "Bridging therapy is treatment given while \n",
      "waiting for a transplant to prevent cancer \n",
      "from growing or spreading. If cancer grows or \n",
      "spreads, you might not be able to have a liver \n",
      "transplant. Bridging therapy options include \n",
      "ablation, embolization, radiation therapy, or \n",
      "systemic therapy. \n",
      "Transplant is not an option\n",
      "If a liver transplant is not an option, then \n",
      "surgery to remove the tumor (resection) is \n",
      "preferred. Other options include ablation, \n",
      "arterially directed therapy, and radiation \n",
      "therapy. See Guide 4.Surveillance\n",
      "After treatment, you will start surveillance. \n",
      "Surveillance consists of testing on a regular \n",
      "basis to watch for signs that cancer has \n",
      "returned. Imaging tests and blood tests to look\n",
      "\"\"\"\n",
      "\n",
      "National Comprehensive Cancer Network Guideline Liver Cancer section:\n",
      "\"\"\"\n",
      "new medicines and any over-the-counter \n",
      "medicines, herbals, or supplements you take. \n",
      "Tell your doctor about any symptoms you have. \n",
      "A medical history will help determine which \n",
      "treatment is best for you. Family history\n",
      "Some cancers and other diseases can run \n",
      "in families. Your doctor will ask about the \n",
      "health history of family members who are \n",
      "blood relatives. It is important to ask members \n",
      "from both parents’ side of the family about \n",
      "all cancers, not just liver cancer. Ask about \n",
      "other health issues like heart disease and \n",
      "diabetes, at what age they were diagnosed, \n",
      "and if anyone died from their cancer. Share this \n",
      "information and any changes to family history \n",
      "with your health care provider.\n",
      "Guide 3\n",
      "Tests for treatment planning\n",
      "Evaluation by a multidisciplinary team of doctors to asses liver health and to stage cancer\n",
      "Medical history and physical exam\n",
      "Hepatitis panel  \n",
      "Bilirubin, transaminases, alkaline phosphatase\n",
      "Prothrombin time (PT) or international normalized ratio (INR), albumin, blood urea nitrogen (BUN), \n",
      "and creatinine\n",
      "Complete blood count (CBC) and platelet count\n",
      "Alpha-fetoprotein (AFP)\n",
      "Chest CT\n",
      "Bone scan, if needed\n",
      "Abdominal and pelvic CT or MRI with contrast20\n",
      "NCCN Guidelines for Patients® \n",
      "Liver Cancer, 20212 Diagnosing liver cancer  Blood tests \n",
      "Physical exam \n",
      "During a physical exam, your health care \n",
      "provider may:\n",
      " Check your temperature, blood pressure, \n",
      "pulse, and breathing rate\n",
      " Check your weight\n",
      " Listen to your lungs and heart\n",
      " Look in your eyes, ears, nose, and throat\n",
      " Feel and apply pressure to parts of your\n",
      "\"\"\"\n",
      "\n",
      "National Comprehensive Cancer Network Guideline Liver Cancer section:\n",
      "\"\"\"\n",
      "MELD\n",
      "Model for End-Stage Liver Disease (MELD) \n",
      "is a score determined by 3 blood tests:\n",
      " Total bilirubin, a measure of jaundice\n",
      " Prothrombin time, a measure of \n",
      "clotting ability\n",
      " Creatinine, a measure of kidney \n",
      "function\n",
      "The poorer the liver function, the higher the \n",
      "MELD score. The person with the highest \n",
      "MELD score is at the top of the transplant \n",
      "list. Lists are organized by blood type. Your \n",
      "blood type must match the donor’s blood \n",
      "type.Order of treatments\n",
      "Most people with liver cancer will receive more \n",
      "than one type of treatment. Next is an overview \n",
      "of the order of treatments and what they do. \n",
      "• Neoadjuvant (before) treatment is given to \n",
      "shrink the tumor before primary treatment \n",
      "(surgery). \n",
      "• Primary treatment is the main treatment \n",
      "given to rid the body of cancer. Surgery is \n",
      "usually the main treatment for resectable liver \n",
      "cancer. This is not an option for everyone. \n",
      "• Adjuvant (after) treatment  is given after \n",
      "primary treatment to rid the body of any \n",
      "cancer cells left behind from surgery. It is \n",
      "also used when the risk of cancer returning \n",
      "(recurrence) is felt to be high. \n",
      "• First-line treatment is the first set of \n",
      "treatments given.\n",
      "• Second-line treatment is the next set of \n",
      "treatments given after the first treatment has \n",
      "failed. \n",
      "Talk to your doctor about your treatment plan and \n",
      "what it means for your stage of liver cancer. \n",
      "32\n",
      "NCCN Guidelines for Patients® \n",
      "Liver Cancer, 20213 Treatment overview  Ablation\n",
      "\"\"\"\n",
      "\n",
      "National Comprehensive Cancer Network Guideline Liver Cancer section:\n",
      "\"\"\"\n",
      "basis to watch for signs that cancer has \n",
      "returned. Imaging tests and blood tests to look \n",
      "for alpha-fetoprotein (AFP) are needed. You \n",
      "might be referred to a hepatologist to discuss \n",
      "antiviral treatment options if you have hepatitis. \n",
      "Surveillance includes:\n",
      " Imaging tests every 3 to 6 months for 2 \n",
      "years, then every 6 to 12 months\n",
      " AFP every 3 to 6 months for 2 years, then \n",
      "every 6 to 12 months\n",
      "Key points\n",
      " A tumor that can removed with surgery is \n",
      "called resectable. In a resectable tumor, \n",
      "surgery to remove the tumor is preferred. \n",
      "However, resectable tumors can be \n",
      "treated with ablation, arterially directed \n",
      "therapy, or radiation therapy. \n",
      " A liver transplant might be an option if you \n",
      "meet certain UNOS criteria.  \n",
      " If a liver transplant is an option, you might \n",
      "have bridging therapy while waiting for a \n",
      "transplant. Bridging therapy might include \n",
      "ablation, embolization, radiation therapy, \n",
      "or systemic therapy. \n",
      " Surveillance consists of testing on a \n",
      "regular basis to watch for tumor growth.44\n",
      "NCCN Guidelines for Patients® \n",
      "Liver Cancer, 202144\n",
      "5\n",
      "Unresectable\n",
      "45 Overview\n",
      "45 Transplant\n",
      "46 Treatment without surgery\n",
      "48 Key points45\n",
      "NCCN Guidelines for Patients® \n",
      "Liver Cancer, 20215 Unresectable  Overview\n",
      "Surgery for liver cancer is not always \n",
      "possible. Sometimes, the location of the \n",
      "tumor prevents surgery or the liver is not \n",
      "healthy enough for resection. A tumor \n",
      "that cannot be removed with surgery is\n",
      "\"\"\"\n",
      "\n",
      "National Comprehensive Cancer Network Guideline Liver Cancer section:\n",
      "\"\"\"\n",
      "Other recommended• Nivolumab (Child-Pugh Class A or B)\n",
      "• Nivolumab with ipilimumab (Child-Pugh Class A only)\n",
      "• Pembrolizumab (Child-Pugh Class A only) 48\n",
      "NCCN Guidelines for Patients® \n",
      "Liver Cancer, 20215 Unresectable  Key points\n",
      "Key points\n",
      " A tumor that cannot be removed with \n",
      "surgery is called unresectable. \n",
      " A liver transplant might be an option if you \n",
      "meet certain criteria.  \n",
      " After a liver transplant, you will undergo \n",
      "surveillance. Surveillance consists of \n",
      "testing on a regular basis to watch for \n",
      "tumor growth.\n",
      " If a liver transplant is not an option, or to \n",
      "prevent the tumor from growing while you \n",
      "are on a transplant list, then locoregional \n",
      "therapy such as ablation, arterially directed \n",
      "therapy, or radiation therapy are preferred.\n",
      " Systemic therapy, a clinical trial, or best \n",
      "supportive care are other options for those \n",
      "not undergoing a liver transplant. \n",
      " When cancer grows or spreads, it is called \n",
      "disease progression. Progression can \n",
      "happen while on or after systemic therapy. \n",
      "Treatment is based on the type of systemic \n",
      "therapy you had before.We want your  \n",
      "feedback!\n",
      "Our goal is to provide helpful \n",
      "and easy-to-understand \n",
      "information on cancer.\n",
      "Take our survey to let us \n",
      "know what we got right and \n",
      "what we could do better:\n",
      "NCCN.org/patients/ feedback49\n",
      "NCCN Guidelines for Patients® \n",
      "Liver Cancer, 20216\n",
      "Inoperable\n",
      "50 Treatment options\n",
      "52 Key points50\n",
      "NCCN Guidelines for Patients®\n",
      "\"\"\"\n",
      "\n",
      "Question: What is the requirement for liver transplant?\n"
     ]
    },
    {
     "data": {
      "text/plain": [
       "'The UNOS criteria for liver transplant include: AFP levels are 1000 ng/mL or less and tumor is 2 to 5 cm in diameter or 2 to 3 tumors are 1 to 3 cm, no large veins, arteries, or bile ducts have cancer, and no disease outside the liver (extrahepatic).'"
      ]
     },
     "execution_count": 40,
     "metadata": {},
     "output_type": "execute_result"
    }
   ],
   "source": [
    "ask('What is the requirement for liver transplant?', print_message=True)"
   ]
  },
  {
   "cell_type": "code",
   "execution_count": 41,
   "metadata": {},
   "outputs": [
    {
     "data": {
      "text/plain": [
       "'I could not find an answer. The provided articles are about the National Comprehensive Cancer Network Guideline Liver Cancer and do not discuss the topic of large language model.'"
      ]
     },
     "execution_count": 41,
     "metadata": {},
     "output_type": "execute_result"
    }
   ],
   "source": [
    "ask('What is large language model?')"
   ]
  },
  {
   "cell_type": "code",
   "execution_count": 42,
   "metadata": {},
   "outputs": [
    {
     "data": {
      "text/plain": [
       "'The stages of liver cancer are Stage 1A, Stage 1B, Stage 2, Stage 3A, Stage 3B, Stage 4A, and Stage 4B. Each stage is defined by the size and number of tumors, involvement of blood vessels or nearby organs, lymph node involvement, and distant metastasis. The TNM system is also used to describe the extent of cancer growth.'"
      ]
     },
     "execution_count": 42,
     "metadata": {},
     "output_type": "execute_result"
    }
   ],
   "source": [
    "ask('What are the stages of liver cancer?')"
   ]
  },
  {
   "cell_type": "code",
   "execution_count": 43,
   "metadata": {},
   "outputs": [
    {
     "data": {
      "text/plain": [
       "'Liver cancer is usually confirmed with imaging tests such as CT or MRI scans. Blood tests, physical exams, and biopsies may also be used to diagnose liver cancer. A multidisciplinary team of doctors evaluates liver health and stages the cancer based on the number of tumors, tumor size(s) and location(s), and if the tumor(s) involves any blood vessels, bile ducts, or nearby organs. Family history and medical history are also taken into consideration to determine the best treatment plan. Regular screening tests such as ultrasounds and alpha-fetoprotein (AFP) tests may be recommended for those at risk of developing liver cancer. (Sources: National Comprehensive Cancer Network Guideline Liver Cancer sections on \"Diagnosing liver cancer\" and \"Tests for treatment planning\")'"
      ]
     },
     "execution_count": 43,
     "metadata": {},
     "output_type": "execute_result"
    }
   ],
   "source": [
    "ask('How to diagnose liver cancer?')"
   ]
  },
  {
   "cell_type": "code",
   "execution_count": 44,
   "metadata": {},
   "outputs": [
    {
     "data": {
      "text/plain": [
       "'An alpha-fetoprotein (AFP) test can diagnose liver cancer.'"
      ]
     },
     "execution_count": 44,
     "metadata": {},
     "output_type": "execute_result"
    }
   ],
   "source": [
    "ask('What kind of blood test can diagnose liver cancer?')"
   ]
  },
  {
   "cell_type": "code",
   "execution_count": 46,
   "metadata": {},
   "outputs": [
    {
     "data": {
      "text/plain": [
       "'The preferred first-line systemic therapy for metastatic liver cancer is atezolizumab with bevacizumab. Other recommended options for first-line systemic therapy for metastatic liver cancer include sorafenib and lenvatinib. Regorafenib is an option for next-line systemic therapy for disease progression. Nivolumab and FOLFOX are also useful in some cases. (Sources: National Comprehensive Cancer Network Guideline Liver Cancer, Guide 10, Guide 11)'"
      ]
     },
     "execution_count": 46,
     "metadata": {},
     "output_type": "execute_result"
    }
   ],
   "source": [
    "ask('What drugs work for metastatic?')"
   ]
  },
  {
   "cell_type": "code",
   "execution_count": 47,
   "metadata": {},
   "outputs": [
    {
     "data": {
      "text/plain": [
       "'After a liver transplant, the body may reject the donor liver, but medicine will be given to prevent rejection. Additionally, surveillance consisting of regular testing is done to watch for signs of cancer returning.'"
      ]
     },
     "execution_count": 47,
     "metadata": {},
     "output_type": "execute_result"
    }
   ],
   "source": [
    "ask('what are reactions of a tranplant')"
   ]
  },
  {
   "cell_type": "code",
   "execution_count": 49,
   "metadata": {},
   "outputs": [
    {
     "data": {
      "text/plain": [
       "'The name of the tumor that can be removed is resectable.'"
      ]
     },
     "execution_count": 49,
     "metadata": {},
     "output_type": "execute_result"
    }
   ],
   "source": [
    "ask('what is the name of the tumor that can be removed')"
   ]
  },
  {
   "cell_type": "code",
   "execution_count": 50,
   "metadata": {},
   "outputs": [
    {
     "data": {
      "text/plain": [
       "'The National Comprehensive Cancer Network Guideline Liver Cancer provides information on diagnosing and treating liver cancer. The guideline emphasizes the importance of organizing medical records and seeking a second opinion. It also provides information on general health tests, physical exams, and blood tests. The guideline discusses treatment options, including surgery, liver transplant, ablation, embolization, and radiation therapy. It also covers clinical trials and supportive care. The guideline encourages patients to discuss their treatment goals with their doctor and seek treatment at a hospital or cancer center that specializes in liver cancer.'"
      ]
     },
     "execution_count": 50,
     "metadata": {},
     "output_type": "execute_result"
    }
   ],
   "source": [
    "ask('can you give me a summary of this paper')"
   ]
  },
  {
   "cell_type": "code",
   "execution_count": 51,
   "metadata": {},
   "outputs": [
    {
     "data": {
      "text/plain": [
       "'As an AI language model, I do not have access to your quiz questions. However, based on the information provided in the National Comprehensive Cancer Network Guideline Liver Cancer, possible quiz questions could include:\\n\\n1. What are some questions to ask your doctors about testing and staging for liver cancer?\\n2. What are some questions to ask your doctors about their experience treating liver cancer?\\n3. What are some questions to ask about treatment options for liver cancer?\\n4. What are some questions to ask about surgery for liver cancer?\\n5. What are some questions to ask about radiation therapy for liver cancer?\\n6. What are some questions to ask about clinical trials for liver cancer?\\n7. What are some questions to ask about side effects of liver cancer treatment?\\n8. What is a pain diary and how can it be helpful for managing liver cancer pain?\\n9. What is a resectable tumor and what are some treatment options for it?\\n10. What are some resources available for liver cancer patients and their families?'"
      ]
     },
     "execution_count": 51,
     "metadata": {},
     "output_type": "execute_result"
    }
   ],
   "source": [
    "ask('i have a quiz tomorrow on this paper, what are the possible quiz questions')"
   ]
  },
  {
   "cell_type": "code",
   "execution_count": 53,
   "metadata": {},
   "outputs": [
    {
     "data": {
      "text/plain": [
       "'Atezolizumab is an immunotherapy drug that increases the activity of the immune system to find and destroy cancer cells. It is a targeted therapy that blocks the signals that cause liver cancer to grow and spread.'"
      ]
     },
     "execution_count": 53,
     "metadata": {},
     "output_type": "execute_result"
    }
   ],
   "source": [
    "ask('How does atezolizumab work?')"
   ]
  }
 ],
 "metadata": {
  "kernelspec": {
   "display_name": "venv",
   "language": "python",
   "name": "python3"
  },
  "language_info": {
   "codemirror_mode": {
    "name": "ipython",
    "version": 3
   },
   "file_extension": ".py",
   "mimetype": "text/x-python",
   "name": "python",
   "nbconvert_exporter": "python",
   "pygments_lexer": "ipython3",
   "version": "3.10.9"
  },
  "orig_nbformat": 4
 },
 "nbformat": 4,
 "nbformat_minor": 2
}
